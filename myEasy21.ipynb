{
 "cells": [
  {
   "cell_type": "markdown",
   "metadata": {},
   "source": [
    "# Easy21 - Reinforcement Learning --- David Silver\n",
    "\n",
    "Assignment from\n",
    "http://www0.cs.ucl.ac.uk/staff/d.silver/web/Teaching_files/Easy21-Johannes.pdf\n",
    "\n",
    "GitHub visualization\n",
    "https://github.com/mari-linhares/easy21/blob/master/easy21.ipynb"
   ]
  },
  {
   "cell_type": "code",
   "execution_count": 24,
   "metadata": {},
   "outputs": [],
   "source": [
    "from enum import Enum\n",
    "import random"
   ]
  },
  {
   "cell_type": "markdown",
   "metadata": {},
   "source": [
    "## Cards\n",
    "- deck of cards (i.e. cards are sampled with replacement)\n",
    "- Each draw from the deck results in a value between 1 and 10 (uniformly distributed)\n",
    "- Card is red with probability 1/3 or black with probability 2/3\n",
    "- No face or aces"
   ]
  },
  {
   "cell_type": "code",
   "execution_count": 25,
   "metadata": {},
   "outputs": [],
   "source": [
    "class Color(Enum):\n",
    "    RED = 0\n",
    "    BLACK = 1\n",
    "    \n",
    "class Card():\n",
    "    def __init__(self, color = None):\n",
    "        self.value = self._get_random_value()\n",
    "        \n",
    "        if color == Color.RED or color == Color.BLACK:\n",
    "            self.color = color\n",
    "        else:\n",
    "            self.color = self._get_random_color() \n",
    "                \n",
    "    def _get_random_value(self):\n",
    "        return random.randint(1,10)\n",
    "                \n",
    "    def _get_random_color(self):\n",
    "        rd = random.random()\n",
    "        if rd <= 1.0/3:\n",
    "            return Color.RED\n",
    "        else:\n",
    "            return Color.BLACK\n",
    "    \n",
    "class Deck():\n",
    "    def __init__(self, color = None):\n",
    "        return Card(color)"
   ]
  },
  {
   "cell_type": "markdown",
   "metadata": {},
   "source": [
    "## State and Action\n",
    "- State\n",
    "    - dealer's sum\n",
    "    - player's sum\n",
    "    - is Terminated\n",
    "- Action\n",
    "    - Hit:   draw another card\n",
    "    - Stick: stop drawing "
   ]
  },
  {
   "cell_type": "code",
   "execution_count": null,
   "metadata": {},
   "outputs": [],
   "source": [
    "class State():\n",
    "    def __init__(self, dealer_sum = 0, player_sum = 0, isTerminated = False):\n",
    "        self.dealer_sum = dealer_sum\n",
    "        self.player_sum = player_sum\n",
    "        self.isTerminated = isTerminated \n",
    "    \n",
    "class Action(Enum):\n",
    "    STICK = 0\n",
    "    HIT = 1"
   ]
  },
  {
   "cell_type": "markdown",
   "metadata": {},
   "source": [
    "## Agent\n",
    "- Player\n",
    "    * waiting to learn..........\n",
    "\n",
    "- Dealer\n",
    "    * sticks if sum >= 17\n",
    "    * hits   if sum < 17"
   ]
  },
  {
   "cell_type": "code",
   "execution_count": null,
   "metadata": {},
   "outputs": [],
   "source": [
    "class Player():\n",
    "    def policy(self, s):\n",
    "        raise NotImplemented()\n",
    "        \n",
    "class Dealer():\n",
    "    def policy(self, s):\n",
    "        if s.dealer_sum >= 17:\n",
    "            return Action.STICK\n",
    "        else:\n",
    "            return Action.HIT"
   ]
  }
 ],
 "metadata": {
  "kernelspec": {
   "display_name": "Python 3",
   "language": "python",
   "name": "python3"
  },
  "language_info": {
   "codemirror_mode": {
    "name": "ipython",
    "version": 3
   },
   "file_extension": ".py",
   "mimetype": "text/x-python",
   "name": "python",
   "nbconvert_exporter": "python",
   "pygments_lexer": "ipython3",
   "version": "3.7.3"
  }
 },
 "nbformat": 4,
 "nbformat_minor": 2
}
